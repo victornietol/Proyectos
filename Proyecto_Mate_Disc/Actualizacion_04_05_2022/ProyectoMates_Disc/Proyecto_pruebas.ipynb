{
 "cells": [
  {
   "cell_type": "code",
   "execution_count": 29,
   "metadata": {},
   "outputs": [
    {
     "name": "stdout",
     "output_type": "stream",
     "text": [
      "Chatbot: Hola, soy Chatbot, ¿en que te puedo ayudar?\n",
      "Hola, tengo poca bateria\n",
      "Recomendaciones de peliculas\n",
      "Recomendaciones de series\n",
      "Recomendaciones de documentales\n",
      "Recomendaciones de peliculas\n",
      "Recomendaciones de series\n",
      "Recomendaciones de documentales\n",
      "Recomendaciones de peliculas\n",
      "Recomendaciones de series\n",
      "Recomendaciones de documentales\n",
      "Chatbot: Hasta luego :)\n"
     ]
    }
   ],
   "source": [
    "import re, random\n",
    "from unicodedata import normalize\n",
    "\n",
    "class Chatbot:\n",
    "    def __init__(self):\n",
    "        self.info()\n",
    "        self.iniciar()\n",
    "\n",
    "    def info(self):\n",
    "        self.grafo = {}\n",
    "        self.grafo['buenos dias']=['Hola, la temperatura de hoy es de 16 grados', 'Arriba la máquina del Cruz Azul', 'Tardes ya', 'Hola, tengo poca bateria']\n",
    "        self.grafo['recomendaciones de netflix']=['recomendaciones de peliculas', 'recomendaciones de series', 'recomendaciones de documentales']\n",
    "        self.grafo['recomendaciones peliculas']=['Mis recomendaciones son Spiderman 3, Doctor S']\n",
    "        self.grafo['recomendaciones series']=['Mis recomendaciones son Breaking Bad, The Witcher, The Mentalist']\n",
    "        self.grafo['recomendaciones documentales']=['Mis recomendaciones son nulas porque no he revisado los documentales']\n",
    "        self.dialogo = 'Chatbot:'\n",
    "        self.vertices = list(self.grafo.keys())\n",
    "\n",
    "    def quitar_acentos(self,x):\n",
    "        x = re.sub(r\"([^n\\u0300-\\u036f]|n(?!\\u0303(?![\\u0300-\\u036f])))[\\u0300-\\u036f]+\", r\"\\1\", normalize( \"NFD\", x), 0, re.I)\n",
    "        x = normalize('NFC',x)\n",
    "        return x\n",
    "\n",
    "    def clasificacion_pregunta(self,x):\n",
    "        if ('netflix' in x) and ('recomendaciones' in x):\n",
    "            x = 'recomendaciones de netflix'\n",
    "        elif ('recomendaciones' in x) and ('peliculas' in x):\n",
    "            x = 'recomendaciones peliculas'\n",
    "        elif ('recomendaciones' in x) and ('series' in x):\n",
    "            x = 'recomendaciones series'\n",
    "        elif ('recomendaciones' in x) and ('documentales' in x):\n",
    "            x = 'recomendaciones documentales'\n",
    "        else:\n",
    "            pass\n",
    "        return x\n",
    "\n",
    "    def iniciar(self):\n",
    "        print(f'{self.dialogo} Hola, soy Chatbot, ¿en que te puedo ayudar?')\n",
    "        pregunta = ' '\n",
    "        while pregunta != 'adios':\n",
    "            pregunta_ = input('Tú: ')\n",
    "            pregunta = pregunta_.lower()\n",
    "            pregunta = self.quitar_acentos(pregunta)\n",
    "            pregunta = self.clasificacion_pregunta(pregunta)\n",
    "            if pregunta == 'adios':\n",
    "                print(f'{self.dialogo} Hasta luego :)')\n",
    "                break\n",
    "            elif pregunta == 'buenos dias':\n",
    "                print(f'{self.dialogo} {random.choice(self.grafo[pregunta])}')\n",
    "            else:\n",
    "                try:\n",
    "                    if pregunta.__contains__('recomendaciones') and pregunta.__contains__('netflix'):\n",
    "                        print(f'{self.dialogo} En Netflix tengo:')\n",
    "                    for i in self.grafo[pregunta]:\n",
    "                        print(i.capitalize())\n",
    "                except KeyError:\n",
    "                    print('Chatbot: Mmmmm... no entiendo lo que dijiste, intenta de nuevo')\n",
    "\n",
    "iniciar = Chatbot()"
   ]
  },
  {
   "cell_type": "code",
   "execution_count": 16,
   "metadata": {},
   "outputs": [
    {
     "name": "stdout",
     "output_type": "stream",
     "text": [
      "5\n",
      "{'a': [1, 2, 3, 4, 5], 'b': [1, 2, 3, 4, 5]}\n"
     ]
    }
   ],
   "source": [
    "grafo_ex = {}\n",
    "grafo_ex['a']=[1,2,3,4,5]\n",
    "grafo_ex['b']=[1,2,3,4,5]\n",
    "print(grafo_ex['b'][4])\n",
    "print(grafo_ex)"
   ]
  },
  {
   "cell_type": "code",
   "execution_count": 25,
   "metadata": {},
   "outputs": [
    {
     "name": "stdout",
     "output_type": "stream",
     "text": [
      "avegrtufd\n"
     ]
    }
   ],
   "source": [
    "ejemplo = 'ávégrtüfd'\n",
    "print(quitar_acentos(ejemplo))"
   ]
  },
  {
   "cell_type": "code",
   "execution_count": 2,
   "metadata": {},
   "outputs": [
    {
     "name": "stdout",
     "output_type": "stream",
     "text": [
      "{0: [2, 1, 5, 6], 1: [0, 4], 2: [0], 3: [6], 4: [1, 6], 5: [0, 6], 6: [0, 5, 3]} \n",
      "\n",
      "0 [2, 1, 5, 6]\n",
      "1 [0, 4]\n",
      "2 [0]\n",
      "3 [6]\n",
      "4 [1, 6]\n",
      "5 [0, 6]\n",
      "6 [0, 5, 3]\n"
     ]
    }
   ],
   "source": [
    "# Prueba \n",
    "\n",
    "graf = {}\n",
    "graf[0] = [2,1,5,6]\n",
    "graf[1] = [0,4]\n",
    "graf[2] = [0]\n",
    "graf[3] = [6]\n",
    "graf[4] = [1,6]\n",
    "graf[5] = [0,6]\n",
    "graf[6] = [0,5,3]\n",
    "\n",
    "print(graf,'\\n')\n",
    "lista_v = list(graf.keys())\n",
    "for v in lista_v:\n",
    "    print(v,graf[v])"
   ]
  }
 ],
 "metadata": {
  "interpreter": {
   "hash": "e163f6dc755e3f5ee4e51757169cbf4c5bf61c999acb41dad94c865ecb280cf3"
  },
  "kernelspec": {
   "display_name": "Python 3.9.1 64-bit",
   "language": "python",
   "name": "python3"
  },
  "language_info": {
   "codemirror_mode": {
    "name": "ipython",
    "version": 3
   },
   "file_extension": ".py",
   "mimetype": "text/x-python",
   "name": "python",
   "nbconvert_exporter": "python",
   "pygments_lexer": "ipython3",
   "version": "3.9.1"
  },
  "orig_nbformat": 4
 },
 "nbformat": 4,
 "nbformat_minor": 2
}
